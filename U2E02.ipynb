{
 "cells": [
  {
   "cell_type": "markdown",
   "id": "70c04614",
   "metadata": {},
   "source": [
    "<h1> EJERCICIO 2</h1>\n",
    "\n",
    "Calcula la media, mediana y moda, para los montos de los préstamos, con base únicamente en la distribución de frecuencias de la Tabla 1\n",
    "\n",
    "<table><thead><tr><th>Monto de los préstamos (en miles de pesos)</th><th>Número de préstamos  </th></tr></thead><tbody><tr><th> 300-699</th><td>13 </td></tr><tr><th>700-1099</th><td>11 </td></tr><tr><th>1100-1499</th><td>6 </td></tr><tr><th>1500-1899</th><td>5 </td></tr><tr><th>1900-2299</th><td>3 </td></tr><tr><th>2300-2699</th><td>1 </td></tr><tr><th>2700-3099</th><td>1 </td></tr><tr><th>null</th><td> Total 40  </td></tr></tbody></table>"
   ]
  },
  {
   "cell_type": "code",
   "execution_count": 1,
   "id": "7975531d",
   "metadata": {},
   "outputs": [],
   "source": [
    "import pandas as pd"
   ]
  },
  {
   "cell_type": "code",
   "execution_count": 2,
   "id": "3bab7456",
   "metadata": {},
   "outputs": [
    {
     "name": "stdout",
     "output_type": "stream",
     "text": [
      "  Monto de préstamos (en miles de pesos)  Número de préstamos\n",
      "0                                300-699                   13\n",
      "1                               700-1099                   11\n",
      "2                              1100-1499                    6\n",
      "3                              1500-1899                    5\n",
      "4                              1900-2299                    3\n",
      "5                              2300-2699                    1\n",
      "6                              2700-3099                    1\n"
     ]
    }
   ],
   "source": [
    "# Generar el Data Frame\n",
    "\n",
    "\n",
    "data = {'Monto de préstamos (en miles de pesos)': ['300-699', '700-1099', '1100-1499', '1500-1899', '1900-2299', '2300-2699', '2700-3099'],\n",
    "        'Número de préstamos': [13, 11, 6, 5, 3, 1, 1]}\n",
    "\n",
    "df = pd.DataFrame(data)\n",
    "\n",
    "print(df)"
   ]
  },
  {
   "cell_type": "code",
   "execution_count": 3,
   "id": "9bd0c4c7",
   "metadata": {},
   "outputs": [
    {
     "name": "stdout",
     "output_type": "stream",
     "text": [
      "la media es: 5.714285714285714\n"
     ]
    }
   ],
   "source": [
    "# a)Calcular la media\n",
    "\n",
    "\n",
    "prestamos=df['Número de préstamos']\n",
    "media=prestamos.mean()\n",
    "print('la media es:', media)"
   ]
  },
  {
   "cell_type": "code",
   "execution_count": 4,
   "id": "da56eec9",
   "metadata": {},
   "outputs": [
    {
     "name": "stdout",
     "output_type": "stream",
     "text": [
      "la maediana es: 5.0\n"
     ]
    }
   ],
   "source": [
    "# b)Calcular la mediana\n",
    "\n",
    "median=prestamos.median()\n",
    "print('la maediana es:', median)"
   ]
  },
  {
   "cell_type": "code",
   "execution_count": 5,
   "id": "009320ab",
   "metadata": {},
   "outputs": [
    {
     "name": "stdout",
     "output_type": "stream",
     "text": [
      "la moda es: 1\n"
     ]
    }
   ],
   "source": [
    "# c)Calcular la moda\n",
    "\n",
    "mode=prestamos.mode()\n",
    "print('la moda es:', mode[0])"
   ]
  }
 ],
 "metadata": {
  "kernelspec": {
   "display_name": "Python 3 (ipykernel)",
   "language": "python",
   "name": "python3"
  },
  "language_info": {
   "codemirror_mode": {
    "name": "ipython",
    "version": 3
   },
   "file_extension": ".py",
   "mimetype": "text/x-python",
   "name": "python",
   "nbconvert_exporter": "python",
   "pygments_lexer": "ipython3",
   "version": "3.11.2"
  }
 },
 "nbformat": 4,
 "nbformat_minor": 5
}
