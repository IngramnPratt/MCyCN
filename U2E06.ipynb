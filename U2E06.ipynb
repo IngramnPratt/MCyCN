{
 "cells": [
  {
   "cell_type": "markdown",
   "id": "832dc24e",
   "metadata": {},
   "source": [
    "<h1> EJERCICIO 6 </h1>\n",
    "\n",
    "A continuación aparece una lista de las comisiones (en miles de dólares) que se percibieron el año pasado los representantes de ventas de una empresa:\n",
    "\n",
    "<table><thead><tr><th>Comisiones (en miles de dolares)</th><th>Representantes de Ventas </th></tr></thead><tbody><tr><th>3.9</th><td>17.4 </td></tr><tr><th>5.7</th><td>17.6 </td></tr><tr><th>7.3</th><td>22.3 </td></tr><tr><th>10.6</th><td>38.6 </td></tr><tr><th>13</th><td>43.2 </td></tr><tr><th>13.6</th><td>87.7 </td></tr><tr><th>15.1</th><td></td></tr><tr><th>15.8</th><td></td></tr><tr><th>17.1</th><td></td></tr></tbody></table>"
   ]
  },
  {
   "cell_type": "code",
   "execution_count": 1,
   "id": "bd2297b6",
   "metadata": {},
   "outputs": [],
   "source": [
    "import pandas as pd"
   ]
  },
  {
   "cell_type": "code",
   "execution_count": 4,
   "id": "3cbd28eb",
   "metadata": {},
   "outputs": [
    {
     "name": "stdout",
     "output_type": "stream",
     "text": [
      "   Comisiones (en miles de dolares)  Representantes de Ventas\n",
      "0                               3.9                      17.4\n",
      "1                               5.7                      17.6\n",
      "2                               7.3                      22.3\n",
      "3                              10.6                      38.6\n",
      "4                               3.0                      43.2\n",
      "5                              13.6                      87.7\n",
      "6                              15.1                       0.0\n",
      "7                              15.8                       0.0\n",
      "8                              17.1                       0.0\n"
     ]
    }
   ],
   "source": [
    "#Creamos el Data Frame\n",
    "\n",
    "data={'Comisiones (en miles de dolares)':[3.9,5.7,7.3,10.6,3.0,13.6,15.1,15.8,17.1],\n",
    "     'Representantes de Ventas': [17.4,17.6,22.3,38.6,43.2,87.7,0,0,0]}\n",
    "\n",
    "df=pd.DataFrame(data)\n",
    "print(df)"
   ]
  },
  {
   "cell_type": "code",
   "execution_count": 10,
   "id": "814b0701",
   "metadata": {},
   "outputs": [
    {
     "name": "stdout",
     "output_type": "stream",
     "text": [
      "25.200000000000003\n",
      "17.6\n",
      "28.37679509740309\n"
     ]
    }
   ],
   "source": [
    "rven=df['Representantes de Ventas']\n",
    "media=rven.mean()\n",
    "print(media)\n",
    "\n",
    "mediana=rven.median()\n",
    "print(mediana)\n",
    "\n",
    "std_dev=rven.std()\n",
    "print(std_dev)"
   ]
  },
  {
   "cell_type": "code",
   "execution_count": null,
   "id": "7cc19f88",
   "metadata": {},
   "outputs": [],
   "source": []
  }
 ],
 "metadata": {
  "kernelspec": {
   "display_name": "Python 3 (ipykernel)",
   "language": "python",
   "name": "python3"
  },
  "language_info": {
   "codemirror_mode": {
    "name": "ipython",
    "version": 3
   },
   "file_extension": ".py",
   "mimetype": "text/x-python",
   "name": "python",
   "nbconvert_exporter": "python",
   "pygments_lexer": "ipython3",
   "version": "3.11.2"
  }
 },
 "nbformat": 4,
 "nbformat_minor": 5
}
