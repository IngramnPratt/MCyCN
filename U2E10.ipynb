{
 "cells": [
  {
   "cell_type": "markdown",
   "id": "f02414c0",
   "metadata": {},
   "source": [
    "<h1>EJERCICIO 10</h1>\n",
    "\n",
    "Un vendedor ha determinado que la probabilidad de que realice diversos números de ventas diarias, considerando que visita 10 prospectos de clientes, es la que se presenta en la Tabla 3. \n",
    "Calcula el número esperado de ventas diarias y la varianza del número de ventas:\n",
    "\n",
    "<p>Tabla 3. Ventas diarias cuando se visita a 10 prospectos</p>\n",
    "<table>\n",
    "<tbody>\n",
    "<tr>\n",
    "<td width=\"80\">\n",
    "<p>N&uacute;mero de ventas (X)</p>\n",
    "</td>\n",
    "<td width=\"45\">\n",
    "<p>1</p>\n",
    "</td>\n",
    "<td width=\"45\">\n",
    "<p>2</p>\n",
    "</td>\n",
    "<td width=\"45\">\n",
    "<p>3</p>\n",
    "</td>\n",
    "<td width=\"45\">\n",
    "<p>4</p>\n",
    "</td>\n",
    "<td width=\"45\">\n",
    "<p>5</p>\n",
    "</td>\n",
    "<td width=\"45\">\n",
    "<p>6</p>\n",
    "</td>\n",
    "<td width=\"45\">\n",
    "<p>7</p>\n",
    "</td>\n",
    "<td width=\"45\">\n",
    "<p>8</p>\n",
    "</td>\n",
    "</tr>\n",
    "<tr>\n",
    "<td width=\"80\">\n",
    "<p>Probabilidad [P (X)]</p>\n",
    "</td>\n",
    "<td width=\"45\">\n",
    "<p>0.04</p>\n",
    "</td>\n",
    "<td width=\"45\">\n",
    "<p>0.15</p>\n",
    "</td>\n",
    "<td width=\"45\">\n",
    "<p>0.20</p>\n",
    "</td>\n",
    "<td width=\"45\">\n",
    "<p>0.25</p>\n",
    "</td>\n",
    "<td width=\"45\">\n",
    "<p>0.19</p>\n",
    "</td>\n",
    "<td width=\"45\">\n",
    "<p>0.10</p>\n",
    "</td>\n",
    "<td width=\"45\">\n",
    "<p>0.05</p>\n",
    "</td>\n",
    "<td width=\"45\">\n",
    "<p>0.02</p>\n",
    "</td>\n",
    "</tr>\n",
    "</tbody>\n",
    "</table>"
   ]
  },
  {
   "cell_type": "code",
   "execution_count": 1,
   "id": "ea2c6976",
   "metadata": {},
   "outputs": [],
   "source": [
    "# Definiimos los elementos para calcular\n",
    "N_de_ventas = [1, 2, 3, 4, 5, 6, 7, 8]\n",
    "Probabilidad = [0.04, 0.15, 0.20, 0.25, 0.19, 0.10, 0.05, 0.02]"
   ]
  },
  {
   "cell_type": "code",
   "execution_count": 2,
   "id": "890c3f42",
   "metadata": {},
   "outputs": [],
   "source": [
    "#importamos la libreria SciPy para hacer cálculos de probabilidad\n",
    "\n",
    "import scipy as stats\n",
    "\n",
    "#importamos la función Variable discreta\n",
    "\n",
    "from scipy.stats import rv_discrete"
   ]
  },
  {
   "cell_type": "code",
   "execution_count": 3,
   "id": "0331b7bd",
   "metadata": {},
   "outputs": [
    {
     "name": "stdout",
     "output_type": "stream",
     "text": [
      "El numero de ventas diarias esperadas es de: 4.0\n"
     ]
    }
   ],
   "source": [
    "#Creamos una variable aleatoria discreta (vad)\n",
    "\n",
    "vad=rv_discrete(values=(N_de_ventas,Probabilidad))\n",
    "\n",
    "#Calculamos el Número esperado de ventas con la la media de la variable aleatoria discreta\n",
    "\n",
    "ventas_esperadas=vad.mean()\n",
    "print('El numero de ventas diarias esperadas es de:',ventas_esperadas)"
   ]
  },
  {
   "cell_type": "code",
   "execution_count": 4,
   "id": "a9b84c0a",
   "metadata": {},
   "outputs": [
    {
     "name": "stdout",
     "output_type": "stream",
     "text": [
      "La varianza de la ventas del número de ventas es: 2.5199999999999996\n"
     ]
    }
   ],
   "source": [
    "#Calculamos la varianza del número de ventas\n",
    "\n",
    "varianza_v=vad.var()\n",
    "print('La varianza de la ventas del número de ventas es:',varianza_v)"
   ]
  }
 ],
 "metadata": {
  "kernelspec": {
   "display_name": "Python 3 (ipykernel)",
   "language": "python",
   "name": "python3"
  },
  "language_info": {
   "codemirror_mode": {
    "name": "ipython",
    "version": 3
   },
   "file_extension": ".py",
   "mimetype": "text/x-python",
   "name": "python",
   "nbconvert_exporter": "python",
   "pygments_lexer": "ipython3",
   "version": "3.11.2"
  }
 },
 "nbformat": 4,
 "nbformat_minor": 5
}
