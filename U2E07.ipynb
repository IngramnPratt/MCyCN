{
 "cells": [
  {
   "cell_type": "markdown",
   "id": "a65fed9d",
   "metadata": {},
   "source": [
    "<h1>EJERCICIO 7</h1>\n",
    "\n",
    "Una compañía de seguros de automóvil arrojó la siguiente información relacionada con la edad de un conductor y el número de accidentes registrados el año pasado.Diseña un diagrama de dispersión con los datos y redacta un breve resumen:\n",
    "\n",
    "<table><thead><tr><th>Edad</th><th>Accidentes </th></tr></thead><tbody><tr><th>16</th><td>4 </td></tr><tr><th>24</th><td>2 </td></tr><tr><th>18</th><td>5 </td></tr><tr><th>17</th><td>4 </td></tr><tr><th>23</th><td>0 </td></tr><tr><th>27</th><td>1 </td></tr><tr><th>32</th><td>1 </td></tr><tr><th>22</th><td>3 </td></tr></tbody></table>"
   ]
  },
  {
   "cell_type": "code",
   "execution_count": 1,
   "id": "5b938984",
   "metadata": {},
   "outputs": [],
   "source": [
    "import pandas as pd"
   ]
  },
  {
   "cell_type": "code",
   "execution_count": 2,
   "id": "255df783",
   "metadata": {},
   "outputs": [
    {
     "name": "stdout",
     "output_type": "stream",
     "text": [
      "   Edad  Accidentes\n",
      "0    16           4\n",
      "1    24           2\n",
      "2    18           5\n",
      "3    17           4\n",
      "4    23           0\n",
      "5    27           1\n",
      "6    32           1\n",
      "7    22           3\n"
     ]
    }
   ],
   "source": [
    "#Creamos el Data Frame\n",
    "\n",
    "data={'Edad': [16, 24, 18, 17, 23, 27, 32, 22], 'Accidentes': [4, 2, 5, 4, 0, 1, 1, 3]}\n",
    "\n",
    "df=pd.DataFrame(data)\n",
    "print(df)"
   ]
  },
  {
   "cell_type": "code",
   "execution_count": 3,
   "id": "fd20c6c4",
   "metadata": {},
   "outputs": [
    {
     "data": {
      "image/png": "[encoded data removed]",
      "text/plain": [
       "<Figure size 640x480 with 1 Axes>"
      ]
     },
     "metadata": {},
     "output_type": "display_data"
    }
   ],
   "source": [
    "# Diseñamos un diagrama de dispersión\n",
    "\n",
    "import matplotlib.pyplot as plt\n",
    "\n",
    "df.plot.scatter(x='Edad', y='Accidentes', title='Relacion entre Edad y Accidentes')\n",
    "plt.show()"
   ]
  },
  {
   "cell_type": "markdown",
   "id": "817406ef",
   "metadata": {},
   "source": [
    "<h4>Resumen:</h4>\n",
    "\n",
    "Podemos observar en el gráfico anterior que si bien no existe una clara conexión lineal entre los puntos, si podemos observar una tendencia que los accidentes disminuyen conforme aumenta la edad."
   ]
  },
  {
   "cell_type": "code",
   "execution_count": 4,
   "id": "a0c64304",
   "metadata": {},
   "outputs": [
    {
     "name": "stdout",
     "output_type": "stream",
     "text": [
      "La correlación entre Edad y Accidentes es: -0.780092597710988\n"
     ]
    }
   ],
   "source": [
    "\n",
    "\n",
    "#Para determinar si existe una correlación podemos aplicar la siguiente función\n",
    "\n",
    "correlacion=df['Edad'].corr(df['Accidentes'])\n",
    "print('La correlación entre Edad y Accidentes es:', correlacion)"
   ]
  },
  {
   "cell_type": "markdown",
   "id": "414a7536",
   "metadata": {},
   "source": [
    "Al analizar el resultado se puede observar un valor cercano a -1 por lo que podemos decir que existe una cierta correlación entre la edad y los accidentes. El valor al ser negativo, nos muestra una correlacion negativa, esto signfica que entre la edad aumenta, los accidentes disminuyen."
   ]
  }
 ],
 "metadata": {
  "kernelspec": {
   "display_name": "Python 3 (ipykernel)",
   "language": "python",
   "name": "python3"
  },
  "language_info": {
   "codemirror_mode": {
    "name": "ipython",
    "version": 3
   },
   "file_extension": ".py",
   "mimetype": "text/x-python",
   "name": "python",
   "nbconvert_exporter": "python",
   "pygments_lexer": "ipython3",
   "version": "3.11.2"
  }
 },
 "nbformat": 4,
 "nbformat_minor": 5
}
