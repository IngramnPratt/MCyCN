{
 "cells": [
  {
   "cell_type": "markdown",
   "id": "efd62907",
   "metadata": {},
   "source": [
    "<h1>EJERCICIO 14</h1>\n",
    "\n",
    "Una operación de maquinado produce cojinetes con diámetros que están normalmente distribuidos con media de 3.0005 pulgadas y desviación estándar de .0010 pulgadas. Las especificaciones requieren que los diámetros de los cojinetes se encuentren en el intervalo 3.000 ± .0020 pulgadas. Los cojinetes que estén fuera de este intervalo son considerados de desecho y deben volver a maquinarse. Con el ajuste de la máquina existente, ¿qué fracción de la producción total se desechará?"
   ]
  },
  {
   "cell_type": "markdown",
   "id": "8bd40a4f",
   "metadata": {},
   "source": [
    "<h4>Consideraciones del planteamiento</h4>\n",
    "\n",
    "1. La media es de 3.0005\n",
    "\n",
    "2. La desviacion estandar es de 0.0010\n",
    "\n",
    "3. Dado que se requieren que los cojines se encuentren entre el intervalo 3.000 ± .0020, es necesario determinar el rango inferior y superior."
   ]
  },
  {
   "cell_type": "code",
   "execution_count": 1,
   "id": "c751e86d",
   "metadata": {},
   "outputs": [],
   "source": [
    "#Determinamos los parámetros\n",
    "\n",
    "media=3.0005\n",
    "std_dev=0.0010\n",
    "rinf=3.000-0.0020\n",
    "rsup=3.000+0.0020"
   ]
  },
  {
   "cell_type": "code",
   "execution_count": 2,
   "id": "857ccbf0",
   "metadata": {},
   "outputs": [],
   "source": [
    "#Importamos la función de distribución normal\n",
    "\n",
    "from scipy.stats import norm"
   ]
  },
  {
   "cell_type": "code",
   "execution_count": 3,
   "id": "f82fe1e4",
   "metadata": {},
   "outputs": [
    {
     "name": "stdout",
     "output_type": "stream",
     "text": [
      "-2.4999999999999467\n",
      "1.4999999999996128\n"
     ]
    }
   ],
   "source": [
    "#Determinas el z score de los rangos inferior y superior\n",
    "\n",
    "zinf=(rinf-media)/std_dev\n",
    "print(zinf)\n",
    "\n",
    "zsup=(rsup-media)/std_dev\n",
    "print(zsup)"
   ]
  },
  {
   "cell_type": "code",
   "execution_count": 4,
   "id": "8219d4c8",
   "metadata": {},
   "outputs": [
    {
     "name": "stdout",
     "output_type": "stream",
     "text": [
      "0.006209665325777063\n",
      "0.06680720126890816\n"
     ]
    }
   ],
   "source": [
    "#Determinamos los parametros de la distribucion normal\n",
    "\n",
    "ninf=norm.cdf(zinf)\n",
    "print(ninf)\n",
    "\n",
    "nsup=1-norm.cdf(zsup)\n",
    "print(nsup)"
   ]
  },
  {
   "cell_type": "code",
   "execution_count": 5,
   "id": "8d0b1b9a",
   "metadata": {},
   "outputs": [
    {
     "name": "stdout",
     "output_type": "stream",
     "text": [
      "La fracción de la producción que se desechará es: 7.30%\n"
     ]
    }
   ],
   "source": [
    "# Determinamos fracción de la producción total se desechará\n",
    "\n",
    "deshecho = norm.cdf(zinf) + (1 - norm.cdf(zsup))\n",
    "print('La fracción de la producción que se desechará es:', '{:.2%}'.format(deshecho))"
   ]
  }
 ],
 "metadata": {
  "kernelspec": {
   "display_name": "Python 3 (ipykernel)",
   "language": "python",
   "name": "python3"
  },
  "language_info": {
   "codemirror_mode": {
    "name": "ipython",
    "version": 3
   },
   "file_extension": ".py",
   "mimetype": "text/x-python",
   "name": "python",
   "nbconvert_exporter": "python",
   "pygments_lexer": "ipython3",
   "version": "3.11.2"
  }
 },
 "nbformat": 4,
 "nbformat_minor": 5
}
