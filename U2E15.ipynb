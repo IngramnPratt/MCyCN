{
 "cells": [
  {
   "cell_type": "markdown",
   "id": "51c56f8e",
   "metadata": {},
   "source": [
    "<h1>EJERCICIO 15</h1>\n",
    "\n",
    "El ancho de rollos de tela está normalmente distribuido con media de 950 mm (milímetros) y desviación estándar de 10 mm:\n",
    "\n",
    "a)\t¿Cuál es la probabilidad de que un rollo seleccionado al azar tenga un ancho de entre 947 y 958 mm?\n",
    "\n",
    "b)\t¿Cuál es el valor apropiado para C de manera que un rollo seleccionado al azar tenga un ancho menor que C con probabilidad de 0.8531?\n"
   ]
  },
  {
   "cell_type": "markdown",
   "id": "40d1af2d",
   "metadata": {},
   "source": [
    "<h4>Consideraciones del planteamiento</h4>\n",
    "\n",
    "1. La media es  950\n",
    "\n",
    "2. La desviacion estandar es 10\n",
    "\n",
    "3. El rango inferior es 947\n",
    "\n",
    "4. El rango superior es 958\n"
   ]
  },
  {
   "cell_type": "code",
   "execution_count": 1,
   "id": "ed827cfb",
   "metadata": {},
   "outputs": [],
   "source": [
    "#Derminamos los párametros a ocupar\n",
    "\n",
    "media=950\n",
    "std_dev=10\n",
    "rinf=947\n",
    "rsup=958"
   ]
  },
  {
   "cell_type": "code",
   "execution_count": 2,
   "id": "fdfce970",
   "metadata": {},
   "outputs": [],
   "source": [
    "#Importamos la función Distribución normal\n",
    "\n",
    "from scipy.stats import norm"
   ]
  },
  {
   "cell_type": "markdown",
   "id": "a40b44c8",
   "metadata": {},
   "source": [
    "a) ¿Cuál es la probabilidad de que un rollo seleccionado al azar tenga un ancho de entre 947 y 958 mm?\n"
   ]
  },
  {
   "cell_type": "code",
   "execution_count": 10,
   "id": "b3044ee9",
   "metadata": {},
   "outputs": [
    {
     "name": "stdout",
     "output_type": "stream",
     "text": [
      "La distribucion normal del límite inferior es: 38.21%\n",
      "La distribucion normal del límite superior es: 78.81%\n",
      "la probabilidad de que un rollo seleccionado al azar tenga un ancho de entre 947 y 958 mm es: 40.61%\n"
     ]
    }
   ],
   "source": [
    "\n",
    "dinf=norm.cdf(rinf,media,std_dev)\n",
    "print('La distribución normal del límite inferior es:','{:.2%}'.format(dinf))\n",
    "\n",
    "dsup=norm.cdf(rsup,media,std_dev)\n",
    "print('La distribución normal del límite superior es:','{:.2%}'.format(dsup))\n",
    "\n",
    "prob=dsup-dinf\n",
    "print('La probabilidad de que un rollo seleccionado al azar tenga un ancho de entre 947 y 958 mm es:','{:.2%}'.format(prob))\n",
    "\n"
   ]
  },
  {
   "cell_type": "markdown",
   "id": "d66b2fe9",
   "metadata": {},
   "source": [
    "\n",
    "b) ¿Cuál es el valor apropiado para C de manera que un rollo seleccionado al azar \n",
    "    tenga un ancho menor que C con probabilidad de 0.8531?"
   ]
  },
  {
   "cell_type": "code",
   "execution_count": 21,
   "id": "48d42c00",
   "metadata": {},
   "outputs": [
    {
     "name": "stdout",
     "output_type": "stream",
     "text": [
      "El valor de z es: 0.9745168034575654\n",
      "El valor apropiado para C es: 959.7451680345756\n"
     ]
    }
   ],
   "source": [
    "p=0.8351\n",
    "\n",
    "#Determinamos la inversa de distribución acumulativa\n",
    "z=norm.ppf(p)\n",
    "print('El valor de z es:',(z))\n",
    "\n",
    "C=z*std_dev+media\n",
    "print('El valor apropiado para C es:','{:2}'.format(C))"
   ]
  },
  {
   "cell_type": "code",
   "execution_count": 22,
   "id": "51dfd664",
   "metadata": {},
   "outputs": [
    {
     "name": "stdout",
     "output_type": "stream",
     "text": [
      "El valor de p es: 0.8350999999999988\n"
     ]
    }
   ],
   "source": [
    "# Aplicamos una comprobación\n",
    "\n",
    "Z=(C-media)/std_dev\n",
    "p=norm.cdf(Z)\n",
    "print('El valor de p es:',p)"
   ]
  }
 ],
 "metadata": {
  "kernelspec": {
   "display_name": "Python 3 (ipykernel)",
   "language": "python",
   "name": "python3"
  },
  "language_info": {
   "codemirror_mode": {
    "name": "ipython",
    "version": 3
   },
   "file_extension": ".py",
   "mimetype": "text/x-python",
   "name": "python",
   "nbconvert_exporter": "python",
   "pygments_lexer": "ipython3",
   "version": "3.11.2"
  }
 },
 "nbformat": 4,
 "nbformat_minor": 5
}
