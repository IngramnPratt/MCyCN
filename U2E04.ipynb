{
 "cells": [
  {
   "cell_type": "markdown",
   "id": "bdaf7b52",
   "metadata": {},
   "source": [
    "<h1>EJERCICIO 4</h1>\n",
    "\n",
    "El gerente de una tienda estudia la cantidad de artículos que compran los consumidores en el horario de la tarde. A continuación, aparece la cantidad de artículos de una muestra de 30 consumidores:\n",
    "\n",
    " 15, 8, 6, 9, 9, 4, 18, 10, 10, 12, 12, 4, 7, 8, 12, 10, 10, 11, 9, 13, 5, 6, 11, 14, 5, 6, 6, 5, 13, 5\n",
    " \n",
    "a)\tCalcula la media y la mediana de la cantidad de artículos\n",
    "\n",
    "b)\tEstima el rango y la desviación estándar de la cantidad de artículos\n",
    "\n",
    "c)\tOrganiza la cantidad de artículos en una distribución de frecuencias\n",
    "\n",
    "d)\tCalcula la media y la desviación estándar de los datos organizados en una distribución de frecuencias\n",
    "\n",
    "e)\tCompara estos valores con los que calculaste en el inciso a, ¿por qué son diferentes?\n",
    "\n",
    "\n"
   ]
  },
  {
   "cell_type": "code",
   "execution_count": 1,
   "id": "eb385b25",
   "metadata": {},
   "outputs": [],
   "source": [
    "import pandas as pd"
   ]
  },
  {
   "cell_type": "code",
   "execution_count": 2,
   "id": "d50f7e3e",
   "metadata": {},
   "outputs": [
    {
     "name": "stdout",
     "output_type": "stream",
     "text": [
      "     0\n",
      "0   15\n",
      "1    8\n",
      "2    6\n",
      "3    9\n",
      "4    9\n",
      "5    4\n",
      "6   18\n",
      "7   10\n",
      "8   10\n",
      "9   12\n",
      "10  12\n",
      "11   4\n",
      "12   7\n",
      "13   8\n",
      "14  12\n",
      "15  10\n",
      "16  10\n",
      "17  11\n",
      "18   9\n",
      "19  13\n",
      "20   5\n",
      "21   6\n",
      "22  11\n",
      "23  14\n",
      "24   5\n",
      "25   6\n",
      "26   6\n",
      "27   5\n",
      "28  13\n",
      "29   5\n",
      "El total de la muestra es: 30\n"
     ]
    }
   ],
   "source": [
    "data=[15, 8, 6, 9, 9, 4, 18, 10, 10, 12, 12, 4, 7, 8, 12, 10, 10, 11, 9, 13, 5, 6, 11, 14, 5, 6, 6, 5, 13, 5]\n",
    "df=pd.DataFrame(data)\n",
    "print(df)\n",
    "print('El total de la muestra es:',df.size)\n",
    "\n"
   ]
  },
  {
   "cell_type": "code",
   "execution_count": 3,
   "id": "d00da0d4",
   "metadata": {},
   "outputs": [
    {
     "name": "stdout",
     "output_type": "stream",
     "text": [
      "La media es: 9.1\n",
      "la mediana es: 9.0\n"
     ]
    }
   ],
   "source": [
    "#a)  Calcula la media y la mediana de la cantidad de artículos\n",
    "\n",
    "media=df.mean()\n",
    "print('La media es:', media[0])\n",
    "\n",
    "median=df.median()\n",
    "print('la mediana es:', median[0])"
   ]
  },
  {
   "cell_type": "code",
   "execution_count": 4,
   "id": "a8d841a1",
   "metadata": {},
   "outputs": [
    {
     "name": "stdout",
     "output_type": "stream",
     "text": [
      "La desviación estandar es: 3.565640630160067\n"
     ]
    }
   ],
   "source": [
    "#b)\tEstima el rango y la desviación estándar de la cantidad de artículos\n",
    "\n",
    "std_dev=df.std()\n",
    "print('La desviación estandar es:',std_dev[0])"
   ]
  },
  {
   "cell_type": "code",
   "execution_count": 5,
   "id": "ce8c8465",
   "metadata": {},
   "outputs": [
    {
     "name": "stdout",
     "output_type": "stream",
     "text": [
      "6     4\n",
      "10    4\n",
      "5     4\n",
      "9     3\n",
      "12    3\n",
      "8     2\n",
      "4     2\n",
      "11    2\n",
      "13    2\n",
      "15    1\n",
      "18    1\n",
      "7     1\n",
      "14    1\n",
      "Name: 0, dtype: int64\n"
     ]
    }
   ],
   "source": [
    "#c)\tOrganiza la cantidad de artículos en una distribución de frecuencias\n",
    "\n",
    "frecuencias=df[0].value_counts()\n",
    "print(frecuencias)"
   ]
  },
  {
   "cell_type": "code",
   "execution_count": 6,
   "id": "b4cd7a31",
   "metadata": {},
   "outputs": [
    {
     "name": "stdout",
     "output_type": "stream",
     "text": [
      "    0\n",
      "6   4\n",
      "10  4\n",
      "5   4\n",
      "9   3\n",
      "12  3\n",
      "8   2\n",
      "4   2\n",
      "11  2\n",
      "13  2\n",
      "15  1\n",
      "18  1\n",
      "7   1\n",
      "14  1\n",
      "La media es: 2.3076923076923075\n",
      "La desviación estandar es: 1.1821319289469758\n"
     ]
    }
   ],
   "source": [
    "#d)\tCalcula la media y la desviación estándar de los datos organizados en una distribución de frecuencias\n",
    "\n",
    "df2=pd.DataFrame(frecuencias)\n",
    "print(df2)\n",
    "\n",
    "mean2=df2.mean()\n",
    "print('La media es:', mean2[0])\n",
    "\n",
    "std_dev2=df2.std()\n",
    "print('La desviación estandar es:', std_dev2[0])"
   ]
  },
  {
   "cell_type": "code",
   "execution_count": 7,
   "id": "093dfd9b",
   "metadata": {},
   "outputs": [
    {
     "name": "stdout",
     "output_type": "stream",
     "text": [
      "     0\n",
      "0    6\n",
      "1   10\n",
      "2    5\n",
      "3    9\n",
      "4   12\n",
      "5    8\n",
      "6    4\n",
      "7   11\n",
      "8   13\n",
      "9   15\n",
      "10  18\n",
      "11   7\n",
      "12  14\n",
      "El Total de elementos es: 13\n"
     ]
    }
   ],
   "source": [
    "#Tomando los valores unicos\n",
    "data3=[6,10,5,9,12,8,4,11,13,15,18,7,14]\n",
    "df3=pd.DataFrame(data3)\n",
    "print(df3)\n",
    "print('El Total de elementos es:',df3.size)"
   ]
  },
  {
   "cell_type": "code",
   "execution_count": 8,
   "id": "b41fe888",
   "metadata": {},
   "outputs": [
    {
     "name": "stdout",
     "output_type": "stream",
     "text": [
      "La media es: 10.153846153846153\n",
      "La desviación estandar es: 4.180234320508717\n"
     ]
    }
   ],
   "source": [
    "mean3=df3.mean()\n",
    "print('La media es:',mean3[0])\n",
    "\n",
    "std_dev3=df3.std()\n",
    "print('La desviación estandar es:',std_dev3[0])"
   ]
  },
  {
   "cell_type": "code",
   "execution_count": 9,
   "id": "db985611",
   "metadata": {},
   "outputs": [
    {
     "name": "stdout",
     "output_type": "stream",
     "text": [
      "     0\n",
      "0   15\n",
      "1    8\n",
      "2    6\n",
      "3    9\n",
      "4    4\n",
      "5   18\n",
      "6   10\n",
      "7   12\n",
      "8    7\n",
      "9   11\n",
      "10  13\n",
      "11   5\n",
      "12  14\n",
      "La media es: 10.153846153846153\n",
      "La desviación estandar es: 4.180234320508717\n"
     ]
    }
   ],
   "source": [
    "#Aplicando filtro de unicos al DataFrame original\n",
    "\n",
    "data4=data\n",
    "df4=pd.DataFrame(data4)\n",
    "\n",
    "val_uniq=df4[0].unique()\n",
    "\n",
    "data5=val_uniq\n",
    "df5=pd.DataFrame(data5)\n",
    "print(df5)\n",
    "\n",
    "mean5=df5.mean()\n",
    "print('La media es:',mean5[0])\n",
    "\n",
    "std_dev5=df5.std()\n",
    "print('La desviación estandar es:',std_dev5[0])"
   ]
  }
 ],
 "metadata": {
  "kernelspec": {
   "display_name": "Python 3 (ipykernel)",
   "language": "python",
   "name": "python3"
  },
  "language_info": {
   "codemirror_mode": {
    "name": "ipython",
    "version": 3
   },
   "file_extension": ".py",
   "mimetype": "text/x-python",
   "name": "python",
   "nbconvert_exporter": "python",
   "pygments_lexer": "ipython3",
   "version": "3.11.2"
  }
 },
 "nbformat": 4,
 "nbformat_minor": 5
}
