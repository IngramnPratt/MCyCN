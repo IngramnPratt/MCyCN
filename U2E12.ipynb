{
 "cells": [
  {
   "cell_type": "markdown",
   "id": "277bc739",
   "metadata": {},
   "source": [
    "<h1>EJERCICIO 12</h1>\n",
    "\n",
    "Suponga que el 40% de los empleados a destajo de una empresa grande están a favor de tener representación sindical y que se entrevista a una muestra aleatoria de 10 de ellos y se les solicita una respuesta anónima. ¿Cuál es la probabilidad de que:\n",
    "\n",
    "a)\tLa mayoría de los que respondan.\n",
    "\n",
    "b)\tMenos de la mitad de los que respondan estarán a favor de la representación sindical.\n"
   ]
  },
  {
   "cell_type": "markdown",
   "id": "6fcdef6f",
   "metadata": {},
   "source": [
    "<h4>Consideraciones del Planteamiento</h4>\n",
    "\n",
    "1. 40% de los empleados están a favor de tener representación sindical, por lo que p=0.4\n",
    "\n",
    "2. La muestra es de 10, por lo que n=10\n",
    "\n",
    "3. El planteamiento no determina que respondan si o no a la representación sindical, por lo que consideraremos que respondan \"si\" a la representación sindical.\n",
    "\n",
    "4. Dado que la muestra de 10, la mayoría signficaría más de la mitad, por lo tanto el rango equivalente es mayor 5, es decir de 6 a 10 personas es la mayoría. \n",
    "\n",
    "5. Caso contrario, en donde menos de la mitad respondan a favor de la representación sindical, el rango es de 0 a 5.\n",
    "\n",
    "\n"
   ]
  },
  {
   "cell_type": "code",
   "execution_count": 1,
   "id": "40cc96f5",
   "metadata": {},
   "outputs": [],
   "source": [
    "#Importamos la formula de Probabilidad Binominal\n",
    "\n",
    "from scipy.stats import binom "
   ]
  },
  {
   "cell_type": "code",
   "execution_count": 2,
   "id": "194dccb5",
   "metadata": {},
   "outputs": [],
   "source": [
    "#Definimos los valores dados\n",
    "\n",
    "n=10\n",
    "p=0.4"
   ]
  },
  {
   "cell_type": "code",
   "execution_count": 3,
   "id": "b3a0dbe7",
   "metadata": {},
   "outputs": [
    {
     "name": "stdout",
     "output_type": "stream",
     "text": [
      "0.11147673600000005\n",
      "0.04246732799999996\n",
      "0.010616832000000001\n",
      "0.001572863999999999\n",
      "0.00010485760000000011\n",
      "0.0\n",
      "0.1662386176\n",
      "La probabilidad de que la mayoría esté a favor es: 16.62%\n"
     ]
    }
   ],
   "source": [
    "#a) La mayoría de los que respondan, lo hagan a favor de la representación sindical\n",
    "\n",
    "# Ocupamos la función de masa de probabilidad (pmf).\n",
    "\n",
    "# Hacemos una suma de todas las probabilidades individuales, es decir para 6, 7, 8, etc.\n",
    "\n",
    "prb1=binom.pmf(6,n,p)\n",
    "print(prb1)\n",
    "\n",
    "prb2=binom.pmf(7,n,p)\n",
    "print(prb2)\n",
    "\n",
    "prb3=binom.pmf(8,n,p)\n",
    "print(prb3)\n",
    "\n",
    "prb4=binom.pmf(9,n,p)\n",
    "print(prb4)\n",
    "\n",
    "prb5=binom.pmf(10,n,p)\n",
    "print(prb5)\n",
    "\n",
    "prb6=binom.pmf(11,n,p)\n",
    "print(prb6)\n",
    "\n",
    "sumaprba=prb1+prb2+prb3+prb4+prb5+prb6\n",
    "print(sumaprba)\n",
    "\n",
    "print('La probabilidad de que la mayoría esté a favor es:', '{:.2%}'.format(sumaprba))"
   ]
  },
  {
   "cell_type": "code",
   "execution_count": 4,
   "id": "b48dbaee",
   "metadata": {},
   "outputs": [
    {
     "name": "stdout",
     "output_type": "stream",
     "text": [
      "La probabilidad de que la mayoría esté a favor es: 16.62%\n"
     ]
    }
   ],
   "source": [
    "\n",
    "# Podemos simplificar el proceso, indicando el rango directo y sumando el resultado de cada probabilidad.\n",
    "\n",
    "prob_mayoria = binom.pmf((range(6, 11)), n, p).sum()\n",
    "print('La probabilidad de que la mayoría esté a favor es:', '{:.2%}'.format(prob_mayoria))"
   ]
  },
  {
   "cell_type": "code",
   "execution_count": 5,
   "id": "206cae93",
   "metadata": {},
   "outputs": [
    {
     "name": "stdout",
     "output_type": "stream",
     "text": [
      "La probabilidad de que menos de la mitad esté a favor es: 0.8337613823999996\n"
     ]
    }
   ],
   "source": [
    "# b) Menos de la mitad de los que respondan estarán a favor de la representación sindical.\n",
    "\n",
    "prob_menos_mitad = binom.pmf(range(0, 6), n, p).sum()\n",
    "print(\"La probabilidad de que menos de la mitad esté a favor es:\", prob_menos_mitad)"
   ]
  }
 ],
 "metadata": {
  "kernelspec": {
   "display_name": "Python 3 (ipykernel)",
   "language": "python",
   "name": "python3"
  },
  "language_info": {
   "codemirror_mode": {
    "name": "ipython",
    "version": 3
   },
   "file_extension": ".py",
   "mimetype": "text/x-python",
   "name": "python",
   "nbconvert_exporter": "python",
   "pygments_lexer": "ipython3",
   "version": "3.11.2"
  }
 },
 "nbformat": 4,
 "nbformat_minor": 5
}
