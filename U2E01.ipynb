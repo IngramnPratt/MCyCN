{
 "cells": [
  {
   "cell_type": "markdown",
   "id": "6732c8b9",
   "metadata": {},
   "source": [
    "<h1>EJERCICIO 1</h1>\n",
    "\n",
    "El número de accidentes ocurridos durante determinado mes en 13 departamentos de manufactura de una planta industrial fueron: \n",
    "\n",
    "2, 0, 0, 3, 3, 12, 1, 0, 8, 1, 0, 5,1\n",
    "\n",
    "\n",
    "Calcula lo siguiente para el número de accidentes por departamento:\n",
    "\n",
    "a)\tMedia\n",
    "\n",
    "b)\tMediana\n",
    "\n",
    "c)\tModa\n",
    "\n"
   ]
  },
  {
   "cell_type": "code",
   "execution_count": 1,
   "id": "d4416894",
   "metadata": {},
   "outputs": [
    {
     "name": "stdout",
     "output_type": "stream",
     "text": [
      "La media es: 2.769230769230769\n",
      "La mediana es: 1.0\n",
      "La moda es: 0\n"
     ]
    }
   ],
   "source": [
    "import pandas as pd\n",
    "\n",
    "# Datos de accidentes por departamento\n",
    "accidentes = [2, 0, 0, 3, 3, 12, 1, 0, 8, 1, 0, 5, 1]\n",
    "\n",
    "# Convertir la lista de accidentes en un DataFrame de Pandas\n",
    "df = pd.DataFrame({'Accidentes': accidentes})\n",
    "\n",
    "# a) Calcular la media\n",
    "media = df.mean()\n",
    "print(\"La media es:\", media[0])\n",
    "\n",
    "# b) Calcular la mediana\n",
    "mediana = df.median()\n",
    "print(\"La mediana es:\", mediana[0])\n",
    "\n",
    "# c) Calcular la moda\n",
    "moda = df.mode()\n",
    "if len(moda) == len(df):\n",
    "    print(\"No hay moda\")\n",
    "else:\n",
    "    print(\"La moda es:\", moda['Accidentes'][0])\n"
   ]
  },
  {
   "cell_type": "code",
   "execution_count": 2,
   "id": "9a87daee",
   "metadata": {},
   "outputs": [
    {
     "name": "stdout",
     "output_type": "stream",
     "text": [
      "La moda es: 0\n"
     ]
    }
   ],
   "source": [
    "import statistics\n",
    "\n",
    "# Datos de accidentes por departamento\n",
    "accidentes = [2, 0, 0, 3, 3, 12, 1, 0, 8, 1, 0, 5, 1]\n",
    "\n",
    "# Calcular la moda\n",
    "try:\n",
    "    moda = statistics.mode(accidentes)\n",
    "    print(\"La moda es:\", moda)\n",
    "except statistics.StatisticsError:\n",
    "\n",
    "    print(\"No hay moda\")\n"
   ]
  }
 ],
 "metadata": {
  "kernelspec": {
   "display_name": "Python 3 (ipykernel)",
   "language": "python",
   "name": "python3"
  },
  "language_info": {
   "codemirror_mode": {
    "name": "ipython",
    "version": 3
   },
   "file_extension": ".py",
   "mimetype": "text/x-python",
   "name": "python",
   "nbconvert_exporter": "python",
   "pygments_lexer": "ipython3",
   "version": "3.11.2"
  }
 },
 "nbformat": 4,
 "nbformat_minor": 5
}
