{
 "cells": [
  {
   "cell_type": "markdown",
   "id": "e925189b",
   "metadata": {},
   "source": [
    "<h1>Ejercicio 5</h1>\n",
    "\n",
    " Una empresa de electrónicos, tomó una muestra de empleados para determinar la distancia  a la que viven de las oficinas centrales de la empresa. Los resultados aparecen a continuación. \n",
    " \n",
    " <table><thead><tr><th>Distancia (Millas)</th><th>Frecuencia </th></tr></thead><tbody><tr><th>0 a 5</th><td>4 </td></tr><tr><th>5 a 10</th><td>15 </td></tr><tr><th>10 a 15</th><td>27 </td></tr><tr><th>15 a 20</th><td>18 </td></tr><tr><th>20 a 25</th><td>6 </td></tr></tbody></table>\n",
    " \n",
    " Calcule la media y la desviación estándar:\n",
    "\n",
    "\n"
   ]
  },
  {
   "cell_type": "code",
   "execution_count": 1,
   "id": "cd6269af",
   "metadata": {},
   "outputs": [],
   "source": [
    "import pandas as pd"
   ]
  },
  {
   "cell_type": "code",
   "execution_count": 2,
   "id": "c8d8e01d",
   "metadata": {},
   "outputs": [
    {
     "name": "stdout",
     "output_type": "stream",
     "text": [
      "  Distancia (Millas)  Frecuencia     M\n",
      "0              0 a 5           4   2.5\n",
      "1             5 a 10          15   7.5\n",
      "2            10 a 15          27  12.5\n",
      "3            15 a 20          18  17.5\n",
      "4            20 a 25           6  22.5\n"
     ]
    }
   ],
   "source": [
    "#Crear el Data Frame\n",
    "\n",
    "data={'Distancia (Millas)':['0 a 5', '5 a 10', '10 a 15', '15 a 20','20 a 25'],\n",
    "      'Frecuencia':[4,15,27,18,6],\n",
    "      'M':[2.5, 7.5, 12.5, 17.5, 22.5]}\n",
    "\n",
    "df=pd.DataFrame(data)\n",
    "print(df)"
   ]
  },
  {
   "cell_type": "code",
   "execution_count": 3,
   "id": "5cc9d5c3",
   "metadata": {},
   "outputs": [
    {
     "name": "stdout",
     "output_type": "stream",
     "text": [
      "La frecuencia es: 14.0\n"
     ]
    }
   ],
   "source": [
    "#Calcular la media\n",
    "\n",
    "frecuencia=df['Frecuencia']\n",
    "media=frecuencia.mean()\n",
    "print('La frecuencia es:', media)\n"
   ]
  },
  {
   "cell_type": "code",
   "execution_count": 4,
   "id": "93b6ebe6",
   "metadata": {},
   "outputs": [
    {
     "name": "stdout",
     "output_type": "stream",
     "text": [
      "La desviacion esatandar es: 9.354143466934854 NOTA: dado que se trata de una muestra se aplica el N-1 en la formula.\n"
     ]
    }
   ],
   "source": [
    "#Calcular de desviacion estandar, dando como parametro (ddof=1) ya que se trata de una muestra\n",
    "\n",
    "std_dev=frecuencia.std(ddof=1)\n",
    "print('La desviacion esatandar es:',std_dev,'NOTA: dado que se trata de una muestra se aplica el N-1 en la formula.')"
   ]
  }
 ],
 "metadata": {
  "kernelspec": {
   "display_name": "Python 3 (ipykernel)",
   "language": "python",
   "name": "python3"
  },
  "language_info": {
   "codemirror_mode": {
    "name": "ipython",
    "version": 3
   },
   "file_extension": ".py",
   "mimetype": "text/x-python",
   "name": "python",
   "nbconvert_exporter": "python",
   "pygments_lexer": "ipython3",
   "version": "3.11.2"
  }
 },
 "nbformat": 4,
 "nbformat_minor": 5
}
