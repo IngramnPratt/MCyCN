{
 "cells": [
  {
   "cell_type": "markdown",
   "id": "e4d976f6",
   "metadata": {},
   "source": [
    "<h1>EJERCICIO 8</h1>\n",
    "\n",
    "Dos marcas de zapatos para correr fueron evaluadas en cuanto a uso y desgaste. Cada una reportó los siguientes números de horas de uso antes que se detectara un desgaste significativo:\n",
    "\n",
    "<table><thead><tr><th>Marca A</th><th>Marca B </th></tr></thead><tbody><tr><th>97</th><td>78 </td></tr><tr><th>83</th><td>56 </td></tr><tr><th>75</th><td>87 </td></tr><tr><th>82</th><td>54 </td></tr><tr><th>98</th><td>89 </td></tr><tr><th>65</th><td>65 </td></tr><tr><th>75</th><td></td></tr></tbody></table>\n",
    "\n",
    "\n",
    "a)\t¿Cuál zapato parece presentar mayor desgaste?.\n",
    "\n",
    "b)\t¿Cuál zapato parece tener un programa de control de calidad que produzca la mejor consistencia en su desgaste?.\n",
    "\n"
   ]
  },
  {
   "cell_type": "code",
   "execution_count": 1,
   "id": "3ca9bacc",
   "metadata": {},
   "outputs": [],
   "source": [
    "import pandas as pd"
   ]
  },
  {
   "cell_type": "code",
   "execution_count": 2,
   "id": "41e051e3",
   "metadata": {},
   "outputs": [],
   "source": [
    "#Generamos un Data Frame. \n",
    "\n",
    "#Nota: eliminamos el ultimo valor de la Marca A, \n",
    "#dado que esta medicion no tiene un punto comparable con la Marca B \n",
    "#y el valor dado, es decir 75 ya se encuentra contemplado.\n",
    "\n",
    "data={'Marca A': [97, 83, 75, 82, 98, 65],\n",
    "     'Marca B': [78, 56, 87, 54, 89, 65]}\n",
    "\n",
    "df=pd.DataFrame(data)\n",
    "print(df)"
   ]
  },
  {
   "cell_type": "code",
   "execution_count": 3,
   "id": "fdf44588",
   "metadata": {},
   "outputs": [],
   "source": [
    "#Determinamos la media y la desviacion estandar de cada marca\n",
    "\n",
    "mediaA=df['Marca A'].mean()\n",
    "print('La media de la Marca A es:',mediaA)\n",
    "\n",
    "mediaB=df['Marca B'].mean()\n",
    "print('La media de la Marca B es:',mediaB)\n",
    "\n",
    "std_devA=df['Marca A'].std(ddof=0) #Establecemos el parametro de la desviacion en N, ya que no es una muestra\n",
    "print('La desviacion estandar de la Marca A es:',std_devA)\n",
    "\n",
    "std_devB=df['Marca B'].std(ddof=0) #Establecemos el parametro de la desviacion en N, ya que no es una muestra\n",
    "print('La desviacion estandar de la Marca B es:',std_devB)"
   ]
  },
  {
   "cell_type": "markdown",
   "id": "5e7a858a",
   "metadata": {},
   "source": [
    "Analizando los resultados anteriores podemos determinar que la Marca A dura mas tiempo antes de presentar un desgaste significativo, es decir duran más que la Marca B. Por lo que esta ultima es la que presenta mayor desgaste en menor tiempo.\n",
    "\n",
    "Al observar la desviación estandar, tambien podemos determinar que es valor es menor para la Marca A por lo que sus zapatos presentan un desgaste mas generalizado que la Marca B, por lo tanto la Marca A tiene un mejor control de calidad.\n",
    "\n",
    "Lo anterior tambien lo podemos analizar mediante el Coeficiente de variación, al dividir la media entre la desvición estándar. Entre menor sea el valor del coeficiente, podemos determinar que el control de calidad es mayor.\n"
   ]
  },
  {
   "cell_type": "code",
   "execution_count": 4,
   "id": "855899ee",
   "metadata": {},
   "outputs": [],
   "source": [
    "#Determinamos el Coeficiente de Variación\n",
    "\n",
    "\n",
    "cofva=(std_devA/mediaA)\n",
    "print('El Coeficiente de Variacion de la Marca A es:',cofva )\n",
    "\n",
    "cofvb=(std_devB/mediaB)\n",
    "print('El Coeficiente de Variacion de la Marca B es:',cofvb )"
   ]
  },
  {
   "cell_type": "code",
   "execution_count": 5,
   "id": "3fbe5338",
   "metadata": {},
   "outputs": [],
   "source": [
    "# Aplicamos el mismo análisis pero a los datos originalmente planteados:\n",
    "\n",
    "data2={'Marca A': [97, 83, 75, 82, 98, 65,75],\n",
    "     'Marca B': [78, 56, 87, 54, 89, 65,0]}\n",
    "\n",
    "df2=pd.DataFrame(data2)\n",
    "print(df2)"
   ]
  },
  {
   "cell_type": "code",
   "execution_count": 6,
   "id": "f896caf2",
   "metadata": {},
   "outputs": [],
   "source": [
    "mediaA2=df2['Marca A'].mean()\n",
    "print('La media de la Marca A es:',mediaA2)\n",
    "\n",
    "mediaB2=df2['Marca B'].mean()\n",
    "print('La media de la Marca B es:',mediaB2)\n",
    "\n",
    "std_devA2=df2['Marca A'].std(ddof=0) #Establecemos el parámetro de la desviacion en N, ya que no es una muestra\n",
    "print('La desviación estandar de la Marca A es:',std_devA2)\n",
    "\n",
    "std_devB2=df2['Marca B'].std(ddof=0) #Establecemos el parámetro de la desviacion en N, ya que no es una muestra\n",
    "print('La desviación estandar de la Marca B es:',std_devB2)\n",
    "\n",
    "cofva2=(std_devA2/mediaA2)\n",
    "print('El Coeficiente de Variación de la Marca A es:',cofva2 )\n",
    "\n",
    "cofvb2=(std_devB2/mediaB2)\n",
    "print('El Coeficiente de Variación de la Marca B es:',cofvb2 )\n"
   ]
  },
  {
   "cell_type": "markdown",
   "id": "fe4a4ac0",
   "metadata": {},
   "source": [
    "Al aplicar el mismo orden de análisis a la tabla planteada originalmente, podemos observar que de igual forma, la Marca A es la que presenta un mejor control de calidad y mayor número de horas de duración.\n",
    "\n"
   ]
  }
 ],
 "metadata": {
  "kernelspec": {
   "display_name": "Python 3 (ipykernel)",
   "language": "python",
   "name": "python3"
  },
  "language_info": {
   "codemirror_mode": {
    "name": "ipython",
    "version": 3
   },
   "file_extension": ".py",
   "mimetype": "text/x-python",
   "name": "python",
   "nbconvert_exporter": "python",
   "pygments_lexer": "ipython3",
   "version": "3.11.2"
  }
 },
 "nbformat": 4,
 "nbformat_minor": 5
}
