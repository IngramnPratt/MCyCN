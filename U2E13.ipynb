{
 "cells": [
  {
   "cell_type": "markdown",
   "id": "58ac3999",
   "metadata": {},
   "source": [
    "<h1>EJERCICIO 13</h1>\n",
    "\n",
    "Un estudio reciente con respecto a salarios por hora de integrantes de equipos de mantenimiento de las aerolíneas más importantes demostró que el salario medio por hora era de 20.50, con una desviación estándar de 3.50. Supón que la distribución de los salarios por hora es una distribución de probabilidad normal. Si elige un integrante de un equipo al azar, ¿cuál es la probabilidad de que gane:\n",
    "\n",
    "a)\tentre 20.50 y 24.00 la hora?\n",
    "\n",
    "b)\tmás de 24.00 la hora?\n",
    "\n",
    "c)\tmenos de 19.00 la hora?\n",
    "\n"
   ]
  },
  {
   "cell_type": "markdown",
   "id": "85a42c63",
   "metadata": {},
   "source": [
    "<h4> Consideraciones del planteamiento</h4>\n",
    "\n",
    "1. La media es de 20.50 por hora\n",
    "\n",
    "2. La desviacion estandar es de 3.50 "
   ]
  },
  {
   "cell_type": "code",
   "execution_count": 1,
   "id": "2c0d51ff",
   "metadata": {},
   "outputs": [],
   "source": [
    "#Importamos la función de distribución normal\n",
    "\n",
    "from scipy.stats import norm"
   ]
  },
  {
   "cell_type": "code",
   "execution_count": 2,
   "id": "3c5986d5",
   "metadata": {},
   "outputs": [],
   "source": [
    "#Definimos los parámetros a ocupar\n",
    "\n",
    "media=20.5\n",
    "std_dev=3.5"
   ]
  },
  {
   "cell_type": "code",
   "execution_count": 3,
   "id": "e5e13c82",
   "metadata": {},
   "outputs": [
    {
     "name": "stdout",
     "output_type": "stream",
     "text": [
      "La probabilidad de que un integrante del equipo gane entre $20.50 y $24.00 la hora es: 34.13%\n"
     ]
    }
   ],
   "source": [
    "# a) Probabilidad de ganar entre $20.50 y $24.00 la hora\n",
    "\n",
    "# ocupamos la función de distribución acumulada (cdf)\n",
    "x=24\n",
    "prob_a= norm.cdf(x,media,std_dev)-norm.cdf(20.5,media,std_dev)\n",
    "print(\"La probabilidad de que un integrante del equipo gane entre $20.50 y $24.00 la hora es:\",'{:.2%}'.format(prob_a) )\n",
    "\n"
   ]
  },
  {
   "cell_type": "code",
   "execution_count": 4,
   "id": "e0c2f8d6",
   "metadata": {},
   "outputs": [
    {
     "name": "stdout",
     "output_type": "stream",
     "text": [
      "La probabilidad de que un integrante del equipo gane mas de $24.00 la hora es: 15.87%\n"
     ]
    }
   ],
   "source": [
    "#b) más de 24.00 la hora?\n",
    "\n",
    "prob_b= 1-norm.cdf(x,media,std_dev)\n",
    "print(\"La probabilidad de que un integrante del equipo gane mas de $24.00 la hora es:\",'{:.2%}'.format(prob_b) )"
   ]
  },
  {
   "cell_type": "code",
   "execution_count": 5,
   "id": "318f79c9",
   "metadata": {},
   "outputs": [
    {
     "name": "stdout",
     "output_type": "stream",
     "text": [
      "La probabilidad de que un integrante del equipo gane menos de $19.00 la hora es: 33.41%\n"
     ]
    }
   ],
   "source": [
    "# c) menos de 19.00 la hora?\n",
    "\n",
    "x_2=19\n",
    "prob_c= norm.cdf(x_2,media,std_dev)\n",
    "print(\"La probabilidad de que un integrante del equipo gane menos de $19.00 la hora es:\",'{:.2%}'.format(prob_c) )"
   ]
  }
 ],
 "metadata": {
  "kernelspec": {
   "display_name": "Python 3 (ipykernel)",
   "language": "python",
   "name": "python3"
  },
  "language_info": {
   "codemirror_mode": {
    "name": "ipython",
    "version": 3
   },
   "file_extension": ".py",
   "mimetype": "text/x-python",
   "name": "python",
   "nbconvert_exporter": "python",
   "pygments_lexer": "ipython3",
   "version": "3.11.2"
  }
 },
 "nbformat": 4,
 "nbformat_minor": 5
}
