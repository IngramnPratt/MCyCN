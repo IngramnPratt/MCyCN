{
 "cells": [
  {
   "cell_type": "markdown",
   "id": "6b3a0637",
   "metadata": {},
   "source": [
    "<h1>EJERCICIO 11</h1>\n",
    "\n",
    "Existe una probabilidad de 90% de que un componente específico se comporte en forma adecuada bajo condiciones de alta temperatura. Si el aparato en el que se usa el componente tiene en total cuatro de ellos, determine la probabilidad de cada uno de los siguientes eventos utilizando la fórmula de las probabilidades binomiales.\n",
    "\n",
    "a)\tTodos los componentes se comportan de forma adecuada y, por lo tanto, el aparato funciona bien.\n",
    "\n",
    "b)\tEl aparato no funciona bien porque falla exactamente uno de los cuatro componentes.\n",
    "\n",
    "c)\tEl aparato no funciona porque falla uno o más de los componentes.\n",
    "\n",
    "\n"
   ]
  },
  {
   "cell_type": "markdown",
   "id": "60a18261",
   "metadata": {},
   "source": [
    "<h4>Consideraciones del planteamiento</h4>\n",
    "\n",
    "1. La probabilidad dada es del 90%, por lo que p=0.9\n",
    "\n",
    "2. El número máximo de componentes dados es 4, por lo que n=4\n"
   ]
  },
  {
   "cell_type": "code",
   "execution_count": 1,
   "id": "c8496254",
   "metadata": {},
   "outputs": [],
   "source": [
    "#Importamos la función de Probabilidad Binominal\n",
    "\n",
    "from scipy.stats import binom "
   ]
  },
  {
   "cell_type": "code",
   "execution_count": 2,
   "id": "3c691f46",
   "metadata": {},
   "outputs": [],
   "source": [
    "#Definimos los valores dados\n",
    "\n",
    "n=4\n",
    "p=0.9"
   ]
  },
  {
   "cell_type": "code",
   "execution_count": 3,
   "id": "75d9fe6a",
   "metadata": {},
   "outputs": [
    {
     "name": "stdout",
     "output_type": "stream",
     "text": [
      "La probabilidad de que todos los componentes se comportan de forma adecuada y, por lo tanto, el aparato funciona bien es: 65.61%\n"
     ]
    }
   ],
   "source": [
    "# a) Todos los componentes se comportan de forma adecuada y, por lo tanto, el aparato funciona bien\n",
    "\n",
    "# Definimos los párametros y ocupamos la función de masa de probabilidad (pmf)\n",
    "x_a=4\n",
    "prob_a = binom.pmf(x_a, n, p)\n",
    "print('La probabilidad de que todos los componentes se comportan de forma adecuada y, por lo tanto, el aparato funciona bien es:', '{:.2%}'.format(prob_a) )"
   ]
  },
  {
   "cell_type": "code",
   "execution_count": 4,
   "id": "b6611d38",
   "metadata": {},
   "outputs": [
    {
     "name": "stdout",
     "output_type": "stream",
     "text": [
      "La probabilidad de que el aparato no funciona bien porque falla exactamente uno de los cuatro componentes es: 29.16%\n"
     ]
    }
   ],
   "source": [
    "# b) El aparato no funciona bien porque falla exactamente uno de los cuatro componentes.\n",
    "\n",
    "# Definimos los párametros y ocupamos la función de masa de probabilidad (pmf).\n",
    "\n",
    "x_b=n-1\n",
    "prob_b= binom.pmf(x_b,n,p)\n",
    "print('La probabilidad de que el aparato no funciona bien porque falla exactamente uno de los cuatro componentes es:','{:.2%}'.format(prob_b))"
   ]
  },
  {
   "cell_type": "code",
   "execution_count": 5,
   "id": "000c1255",
   "metadata": {},
   "outputs": [
    {
     "name": "stdout",
     "output_type": "stream",
     "text": [
      "La probabiliad de que el aparato no funcione porque falla uno o más de los componentes es: 99.99%\n"
     ]
    }
   ],
   "source": [
    "# c) El aparato no funciona porque falla uno o más de los componentes.\n",
    "\n",
    "# Definimos los párametros y ocupamos la función de masa de probabilidad (pmf).\n",
    "\n",
    "x_c=n-3\n",
    "#ocupamos -1 ya que estamos buscando al menos 1 escenario donde falle\n",
    "prob_c= 1-binom.pmf(x_c-1,n,p)\n",
    "print('La probabiliad de que el aparato no funcione porque falla uno o más de los componentes es:','{:.2%}'.format(prob_c))"
   ]
  }
 ],
 "metadata": {
  "kernelspec": {
   "display_name": "Python 3 (ipykernel)",
   "language": "python",
   "name": "python3"
  },
  "language_info": {
   "codemirror_mode": {
    "name": "ipython",
    "version": 3
   },
   "file_extension": ".py",
   "mimetype": "text/x-python",
   "name": "python",
   "nbconvert_exporter": "python",
   "pygments_lexer": "ipython3",
   "version": "3.11.2"
  }
 },
 "nbformat": 4,
 "nbformat_minor": 5
}
