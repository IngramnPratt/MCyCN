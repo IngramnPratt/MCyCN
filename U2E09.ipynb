{
 "cells": [
  {
   "cell_type": "markdown",
   "id": "8255a109",
   "metadata": {},
   "source": [
    "Con referencia a la siguiente tabla, ¿cuál es la probabilidad de que una familia elegida al azar tenga:\n",
    "\n",
    "a)\tingresos entre 18,000 y 22,999.\n",
    "\n",
    "b)\tmenores de $23 000.\n",
    "\n",
    "c)\ten alguno de los dos extremos, de ser menores de 18 000 o cuando menos 40 000?.\n",
    "\n",
    "\n",
    "\n",
    "\n",
    "\n",
    "</ol>\n",
    "<table>\n",
    "<tbody>\n",
    "<tr>\n",
    "<td>\n",
    "<p><strong>Categorias</strong></p>\n",
    "</td>\n",
    "<td>\n",
    "<p><strong>Rango de ingresos</strong></p>\n",
    "</td>\n",
    "<td>\n",
    "<p><strong>N&uacute;mero de familias</strong></p>\n",
    "</td>\n",
    "</tr>\n",
    "<tr>\n",
    "<td>\n",
    "<p><strong>1</strong></p>\n",
    "</td>\n",
    "<td>\n",
    "<p>Menos de&nbsp; 18 000</p>\n",
    "</td>\n",
    "<td>\n",
    "<p>60</p>\n",
    "</td>\n",
    "</tr>\n",
    "<tr>\n",
    "<td>\n",
    "<p><strong>2</strong></p>\n",
    "</td>\n",
    "<td>\n",
    "<p>18,000 &ndash; 22,900</p>\n",
    "</td>\n",
    "<td>\n",
    "<p>100</p>\n",
    "</td>\n",
    "</tr>\n",
    "<tr>\n",
    "<td>\n",
    "<p><strong>3</strong></p>\n",
    "</td>\n",
    "<td>\n",
    "<p>23,000-29,999</p>\n",
    "</td>\n",
    "<td>\n",
    "<p>160</p>\n",
    "</td>\n",
    "</tr>\n",
    "<tr>\n",
    "<td>\n",
    "<p><strong>4</strong></p>\n",
    "</td>\n",
    "<td>\n",
    "<p>30,000-39,999</p>\n",
    "</td>\n",
    "<td>\n",
    "<p>140</p>\n",
    "</td>\n",
    "</tr>\n",
    "<tr>\n",
    "<td>\n",
    "<p><strong>5</strong></p>\n",
    "</td>\n",
    "<td>\n",
    "<p>40,000 y mas</p>\n",
    "</td>\n",
    "<td>\n",
    "<p>40</p>\n",
    "</td>\n",
    "</tr>\n",
    "</tbody>\n",
    "</table>"
   ]
  },
  {
   "cell_type": "code",
   "execution_count": 1,
   "id": "521329c4",
   "metadata": {},
   "outputs": [
    {
     "name": "stdout",
     "output_type": "stream",
     "text": [
      "   Categorias  Rango de ingresos  Número de familias\n",
      "0           1  Menos de $ 18 000                  60\n",
      "1           2   $18,000 – 22,900                 100\n",
      "2           3     $23,000-29,999                 160\n",
      "3           4     $30,000-39,999                 140\n",
      "4           5      $40,000 y mas                  40\n"
     ]
    }
   ],
   "source": [
    "#Creamos el Data Frame\n",
    "\n",
    "import pandas as pd\n",
    "data = {\n",
    "    'Categorias': [1, 2, 3, 4, 5],\n",
    "    'Rango de ingresos': ['Menos de $ 18 000', '$18,000 – 22,900', '$23,000-29,999', '$30,000-39,999', '$40,000 y mas'],\n",
    "    'Número de familias': [60, 100, 160, 140, 40]\n",
    "}\n",
    "\n",
    "df = pd.DataFrame(data)\n",
    "\n",
    "print(df)\n"
   ]
  },
  {
   "cell_type": "code",
   "execution_count": 2,
   "id": "21158b6d",
   "metadata": {},
   "outputs": [],
   "source": [
    "import scipy.stats as stats\n",
    "\n",
    "# Creamos objeto de distribución de probabilidad\n",
    "distribucion = stats.rv_discrete(name='distribucion', \n",
    "                                 values=(df['Categorias'], \n",
    "                                         df['Número de familias']/df['Número de familias'].sum()))\n"
   ]
  },
  {
   "cell_type": "code",
   "execution_count": 3,
   "id": "0881cce5",
   "metadata": {},
   "outputs": [
    {
     "name": "stdout",
     "output_type": "stream",
     "text": [
      "La probabilidad de que una familia elegida al azar tenga ingresos entre $18,000 y $22,999 es 20.00%\n"
     ]
    }
   ],
   "source": [
    "p_a = distribucion.cdf(2) - distribucion.cdf(1)\n",
    "print('La probabilidad de que una familia elegida al azar tenga ingresos entre $18,000 y $22,999 es','{:.2%}'.format(p_a))\n"
   ]
  },
  {
   "cell_type": "code",
   "execution_count": 4,
   "id": "92791d5f",
   "metadata": {},
   "outputs": [
    {
     "name": "stdout",
     "output_type": "stream",
     "text": [
      "La probabilidad de que una familia elegida al azar tenga ingresos menores de $23,000 es 32.00%\n"
     ]
    }
   ],
   "source": [
    "p_b = distribucion.cdf(2)\n",
    "print('La probabilidad de que una familia elegida al azar tenga ingresos menores de $23,000 es','{:.2%}'.format(p_b))\n"
   ]
  },
  {
   "cell_type": "code",
   "execution_count": 5,
   "id": "d383bae8",
   "metadata": {},
   "outputs": [
    {
     "name": "stdout",
     "output_type": "stream",
     "text": [
      "La probabilidad de que una familia elegida al azar tenga ingresos menores de $18,000 o mayores de $40,000 es 8.00%\n"
     ]
    }
   ],
   "source": [
    "p_c = distribucion.cdf(0) + (1 - distribucion.cdf(4))\n",
    "print('La probabilidad de que una familia elegida al azar tenga ingresos menores de $18,000 o mayores de $40,000 es', '{:.2%}'.format(p_c))\n"
   ]
  }
 ],
 "metadata": {
  "kernelspec": {
   "display_name": "Python 3 (ipykernel)",
   "language": "python",
   "name": "python3"
  },
  "language_info": {
   "codemirror_mode": {
    "name": "ipython",
    "version": 3
   },
   "file_extension": ".py",
   "mimetype": "text/x-python",
   "name": "python",
   "nbconvert_exporter": "python",
   "pygments_lexer": "ipython3",
   "version": "3.11.2"
  }
 },
 "nbformat": 4,
 "nbformat_minor": 5
}
